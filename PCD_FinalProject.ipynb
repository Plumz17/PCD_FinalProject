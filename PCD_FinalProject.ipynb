{
  "nbformat": 4,
  "nbformat_minor": 0,
  "metadata": {
    "colab": {
      "provenance": [],
      "authorship_tag": "ABX9TyPZWEt4C5Vj2046R82q9ym3",
      "include_colab_link": true
    },
    "kernelspec": {
      "name": "python3",
      "display_name": "Python 3"
    },
    "language_info": {
      "name": "python"
    }
  },
  "cells": [
    {
      "cell_type": "markdown",
      "metadata": {
        "id": "view-in-github",
        "colab_type": "text"
      },
      "source": [
        "<a href=\"https://colab.research.google.com/github/Plumz17/PCD_FinalProject/blob/main/PCD_FinalProject.ipynb\" target=\"_parent\"><img src=\"https://colab.research.google.com/assets/colab-badge.svg\" alt=\"Open In Colab\"/></a>"
      ]
    },
    {
      "cell_type": "markdown",
      "source": [
        "#Digital Image Processing Final Project - Group 5\n",
        "* Anders Emmanuel Tan (24/541351/PA/22964) KOMB\n",
        "* Evan Razzan Adytaputra (24/545257/PA/23166) KOMB\n",
        "* Indratanaya Budiman (24/534784/PA/22683) KOMA\n",
        "* Daffa Maulana Siddiq (24/533358/PA/22569) KOMA\n"
      ],
      "metadata": {
        "id": "goAbo-_dDMAa"
      }
    },
    {
      "cell_type": "code",
      "execution_count": null,
      "metadata": {
        "id": "ZiTc-kcKC7XV"
      },
      "outputs": [],
      "source": []
    }
  ]
}